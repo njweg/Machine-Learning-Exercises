{
  "cells": [
    {
      "cell_type": "markdown",
      "metadata": {
        "id": "view-in-github",
        "colab_type": "text"
      },
      "source": [
        "<a href=\"https://colab.research.google.com/github/njweg/Machine-Learning-Exercises/blob/main/Sklearn_Logistic_Regression.ipynb\" target=\"_parent\"><img src=\"https://colab.research.google.com/assets/colab-badge.svg\" alt=\"Open In Colab\"/></a>"
      ]
    },
    {
      "cell_type": "markdown",
      "source": [
        "Following *Machine Learning with PyTorch and Scikit-Learn* by Sebastian Raschka et al.\n",
        "\n",
        "---\n",
        "\n"
      ],
      "metadata": {
        "id": "Znmx_64jqPNR"
      }
    },
    {
      "cell_type": "code",
      "execution_count": null,
      "metadata": {
        "id": "bChe0MS-p2Zu"
      },
      "outputs": [],
      "source": [
        "import sklearn\n",
        "import numpy as np\n",
        "import pandas as pd"
      ]
    },
    {
      "cell_type": "code",
      "execution_count": null,
      "metadata": {
        "id": "n2BnFmn3p2Z5"
      },
      "outputs": [],
      "source": [
        "#get data\n",
        "from sklearn import datasets\n",
        "iris = datasets.load_iris()\n",
        "X = iris.data[:,[2,3]]  #just using the petal information\n",
        "y = iris.target"
      ]
    },
    {
      "cell_type": "code",
      "execution_count": null,
      "metadata": {
        "id": "laPKebsTp2Z7"
      },
      "outputs": [],
      "source": [
        "#split into test and train\n",
        "from sklearn.model_selection import train_test_split\n",
        "X_train, X_test, y_train, y_test = train_test_split(X, y, test_size=0.3, random_state=1, stratify=y)"
      ]
    },
    {
      "cell_type": "code",
      "execution_count": null,
      "metadata": {
        "id": "jx6zzWSmp2Z9"
      },
      "outputs": [],
      "source": [
        "#standardize\n",
        "from sklearn.preprocessing import StandardScaler\n",
        "sc = StandardScaler()\n",
        "sc.fit(X_train)  #find sample mean and std dev of training set (using fit method of StandardScaler class)\n",
        "X_train_std = sc.transform(X_train)\n",
        "X_test_std = sc.transform(X_test)"
      ]
    },
    {
      "cell_type": "code",
      "execution_count": null,
      "metadata": {
        "scrolled": true,
        "id": "QymtWe0Ip2Z_",
        "outputId": "05a993d6-3acf-4897-bc9d-f4d555cf4b83"
      },
      "outputs": [
        {
          "data": {
            "text/plain": [
              "LogisticRegression(C=100.0, multi_class='multinomial')"
            ]
          },
          "execution_count": 9,
          "metadata": {},
          "output_type": "execute_result"
        }
      ],
      "source": [
        "#fit model\n",
        "from sklearn.linear_model import LogisticRegression\n",
        "\n",
        "lr = LogisticRegression(C=100.0, solver=\"lbfgs\", multi_class=\"multinomial\")  #initialize a LogisticRegression object\n",
        "lr.fit(X_train_std, y_train)"
      ]
    },
    {
      "cell_type": "markdown",
      "metadata": {
        "id": "ecc_eD13p2aD"
      },
      "source": [
        "----"
      ]
    },
    {
      "cell_type": "code",
      "execution_count": null,
      "metadata": {
        "id": "KgRsbcFcp2aK"
      },
      "outputs": [],
      "source": [
        "from matplotlib.colors import ListedColormap\n",
        "import matplotlib.pyplot as plt\n",
        "\n",
        "def plot_decision_regions(X, y, classifier, test_idx=None, resolution=0.02):\n",
        "    #setup marker generator and color map\n",
        "    markers = ('o', 's', '^', 'V', '<')\n",
        "    colors = (\"red\", \"blue\", \"lightgreen\", \"gray\", \"cyan\")\n",
        "    cmap = ListedColormap(colors[:len(np.unique(y))])\n",
        "\n",
        "    #plot class examples\n",
        "    for idx, cl in enumerate(np.unique(y)):\n",
        "        plt.scatter(x = X[y == cl, 0], y = X[y == cl, 1],\n",
        "                    alpha=0.8,\n",
        "                    c=colors[idx],\n",
        "                    marker=markers[idx],\n",
        "                    label=f\"Class {cl}\",\n",
        "                    edgecolor=\"black\")\n",
        "\n",
        "\n",
        "    #plot decision surface\n",
        "    x1_min, x1_max = X[:, 0].min() - 1, X[:, 0].max() + 1\n",
        "    x2_min, x2_max = X[:, 1].min() - 1, X[:, 1].max() + 1\n",
        "    xx1, xx2 = np.meshgrid(np.arange(x1_min, x1_max, resolution), np.arange(x2_min, x2_max, resolution))  #see NumPy notebook\n",
        "    lab = classifier.predict(np.array([xx1.ravel(), xx2.ravel()]).T)  #pass in data needs to have same structure as training set\n",
        "    lab = lab.reshape(xx1.shape)  #now needs to have same shape as xx1 to pass into countourf (below)\n",
        "    plt.contourf(xx1, xx2, lab, alpha=0.3, cmap=cmap)\n",
        "    plt.xlim(xx1.min(), xx1.max())\n",
        "    plt.ylim(xx2.min(), xx2.max())\n",
        "\n",
        "    #highlight test examples\n",
        "    if test_idx:  #passed in argument of plot_decision_regions()\n",
        "        X_test, y_test = X[test_idx, :], y[test_idx]\n",
        "        plt.scatter(X_test[:, 0], X_test[:, 1], c=\"none\", edgecolor=\"black\", alpha=1.0, linewidth=1, marker='o', s=100,\n",
        "                    label = \"Test Set\")"
      ]
    },
    {
      "cell_type": "markdown",
      "metadata": {
        "id": "V7pkoqSfp2aN"
      },
      "source": [
        "----"
      ]
    },
    {
      "cell_type": "code",
      "execution_count": null,
      "metadata": {
        "scrolled": true,
        "id": "N1N_rWDAp2aQ",
        "outputId": "afba38ee-0562-48c5-b191-831ee0a6e857"
      },
      "outputs": [
        {
          "data": {
            "image/png": "[encoded data removed]",
            "text/plain": [
              "<Figure size 432x288 with 1 Axes>"
            ]
          },
          "metadata": {
            "needs_background": "light"
          },
          "output_type": "display_data"
        }
      ],
      "source": [
        "#plot predictions and fit\n",
        "X_combined = np.vstack((X_train_std, X_test_std))\n",
        "y_combined = np.hstack((y_train, y_test))\n",
        "\n",
        "plot_decision_regions(X_combined, y_combined, classifier=lr, test_idx=range(105, 150))\n",
        "plt.xlabel(\"Petal length [standardized]\")\n",
        "plt.ylabel(\"Petal width [standardized]\")\n",
        "plt.legend(loc=\"upper left\")\n",
        "plt.show()"
      ]
    },
    {
      "cell_type": "markdown",
      "metadata": {
        "id": "X2QXfOOup2aS"
      },
      "source": [
        "----"
      ]
    },
    {
      "cell_type": "code",
      "execution_count": null,
      "metadata": {
        "id": "5O8Cvb1zp2aT",
        "outputId": "af7c224d-2689-4165-800e-d6a6c349eec9"
      },
      "outputs": [
        {
          "data": {
            "text/plain": [
              "0.9777777777777777"
            ]
          },
          "execution_count": 13,
          "metadata": {},
          "output_type": "execute_result"
        }
      ],
      "source": [
        "lr.score(X_test_std, y_test)"
      ]
    },
    {
      "cell_type": "code",
      "execution_count": null,
      "metadata": {
        "id": "YSDJEQEip2aU",
        "outputId": "edd52b31-7596-4090-af1c-a3b4fa5371f3"
      },
      "outputs": [
        {
          "data": {
            "text/plain": [
              "array([[1.52213484e-12, 3.85303417e-04, 9.99614697e-01],\n",
              "       [9.93560717e-01, 6.43928295e-03, 1.14112016e-15],\n",
              "       [9.98655228e-01, 1.34477208e-03, 1.76178271e-17]])"
            ]
          },
          "execution_count": 14,
          "metadata": {},
          "output_type": "execute_result"
        }
      ],
      "source": [
        "#predict probabilities for first 3 test examples\n",
        "lr.predict_proba(X_test_std[0:3, :])"
      ]
    },
    {
      "cell_type": "markdown",
      "metadata": {
        "id": "pPDI6hn0p2aV"
      },
      "source": [
        "^ Each row is the output for each test example, e.g. the first row is the predicted class probabilities for the first test example"
      ]
    },
    {
      "cell_type": "code",
      "execution_count": null,
      "metadata": {
        "id": "GvZxzJbGp2aW",
        "outputId": "cce7d898-b1a4-49b0-889a-f68c505291e7"
      },
      "outputs": [
        {
          "data": {
            "text/plain": [
              "array([1., 1., 1.])"
            ]
          },
          "execution_count": 16,
          "metadata": {},
          "output_type": "execute_result"
        }
      ],
      "source": [
        "#the sum of each row is 1\n",
        "lr.predict_proba(X_test_std[0:3, :]).sum(axis=1)"
      ]
    },
    {
      "cell_type": "code",
      "execution_count": null,
      "metadata": {
        "id": "Gp4lOumIp2aX",
        "outputId": "cd3561e1-e3b4-4682-8008-6ed8bf5fefc4"
      },
      "outputs": [
        {
          "data": {
            "text/plain": [
              "array([2, 0, 0], dtype=int64)"
            ]
          },
          "execution_count": 17,
          "metadata": {},
          "output_type": "execute_result"
        }
      ],
      "source": [
        "#the col. with the biggest number is the predicted class for that row\n",
        "lr.predict_proba(X_test_std[0:3, :]).argmax(axis=1)"
      ]
    },
    {
      "cell_type": "markdown",
      "metadata": {
        "id": "QVwcVmvyp2aY"
      },
      "source": [
        "^ So the predicted class for the first row is '2', for the next row is '0', and for the last '0'."
      ]
    },
    {
      "cell_type": "code",
      "execution_count": null,
      "metadata": {
        "id": "DuQDky0Pp2aZ",
        "outputId": "9fd5589c-bff0-4b7a-805a-f5529d3606c2"
      },
      "outputs": [
        {
          "data": {
            "text/plain": [
              "array([2, 0, 0])"
            ]
          },
          "execution_count": 18,
          "metadata": {},
          "output_type": "execute_result"
        }
      ],
      "source": [
        "#matches our manual prediction\n",
        "lr.predict(X_test_std[0:3, :])"
      ]
    },
    {
      "cell_type": "markdown",
      "metadata": {
        "id": "jJ4brR2vp2aa"
      },
      "source": [
        "**note:** if we want to just predict one flower using the `.predict` method we need to force that example to be a 2-diminsional array, as that's what the method expects as input. Use `.reshape(1,-1)`. --> the -1 makes python figure out the best answer; we don't really care what it is."
      ]
    },
    {
      "cell_type": "code",
      "execution_count": null,
      "metadata": {
        "id": "m8xDsdVSp2aa",
        "outputId": "8f5d5555-f20d-4a87-ceb7-f22889079d18"
      },
      "outputs": [
        {
          "data": {
            "text/plain": [
              "array([2])"
            ]
          },
          "execution_count": 19,
          "metadata": {},
          "output_type": "execute_result"
        }
      ],
      "source": [
        "lr.predict(X_test_std[0, :].reshape(1,-1))"
      ]
    },
    {
      "cell_type": "markdown",
      "metadata": {
        "id": "EPzAdIS6p2ab"
      },
      "source": [
        "----"
      ]
    },
    {
      "cell_type": "code",
      "execution_count": null,
      "metadata": {
        "id": "guv6BFWrp2ac",
        "outputId": "3e3dc220-8eee-4577-91ce-16a0e4f29274"
      },
      "outputs": [
        {
          "data": {
            "text/plain": [
              "<function matplotlib.pyplot.show(*args, **kw)>"
            ]
          },
          "execution_count": 25,
          "metadata": {},
          "output_type": "execute_result"
        },
        {
          "data": {
            "image/png": "[encoded data removed]",
            "text/plain": [
              "<Figure size 432x288 with 1 Axes>"
            ]
          },
          "metadata": {
            "needs_background": "light"
          },
          "output_type": "display_data"
        }
      ],
      "source": [
        "weights, params = [], []\n",
        "for c in np.arange(-5,5):\n",
        "    lr = LogisticRegression(C=10.**c, multi_class=\"ovr\")  #C=10^c for c in (-5,5)\n",
        "    lr.fit(X_train_std, y_train)\n",
        "    weights.append(lr.coef_[1])  #the weight coeff's for class 1 vs rest\n",
        "    params.append(10.**c)\n",
        "\n",
        "weights = np.array(weights)\n",
        "plt.plot(params, weights[:, 0], label=\"Petal length\")\n",
        "plt.plot(params, weights[:, 1], label=\"Petal width\")\n",
        "plt.ylabel(\"Fitted Feature Weight\")\n",
        "plt.xlabel(\"C\")\n",
        "plt.xscale(\"log\")\n",
        "plt.legend(loc=\"upper left\")\n",
        "plt.show"
      ]
    },
    {
      "cell_type": "markdown",
      "metadata": {
        "id": "dAp1J9AFp2ad"
      },
      "source": [
        "^ Abs value of both weights decrease with smaller C"
      ]
    },
    {
      "cell_type": "markdown",
      "metadata": {
        "id": "-tfTZX9dp2ad"
      },
      "source": [
        "----\n",
        "\n",
        "When the output of our data is 0 or 1, we can try to fit the data with a sigmoid curve - i.e. we find \"the sigmoid of best fit\". Most of a sigmoid curve lies very close to 0 or 1, which is why it's fairly natural to fit binary data with a sigmoid curve. Since $\\sigma (z)$ between 0 and 1, it's fairly natural to interpret the output as a probability (of $\\mathbf{X}$ belonging to a given class)\n",
        "\n",
        "**model:** find $\\mathbf{W}$ such that $\\mathrm{\\sigma}(z) = \\frac{1}{1 + \\mathrm{e}^{-W \\cdot X + b}}$ has as little error as possible.\n",
        "\n",
        "**Loss function:** $L = \\sum_{i = 1}^n {-y^{(i)} \\, ln(\\sigma(z^{(i)})) - (1-y^{(i)}) \\, ln(1-\\sigma(z^{(i)}))}$. This is the negative of maximum likelihood function."
      ]
    },
    {
      "cell_type": "code",
      "execution_count": null,
      "metadata": {
        "id": "4Ae0CQxnp2ae",
        "outputId": "bd0f4ae1-155c-4d73-b333-599702807749"
      },
      "outputs": [
        {
          "data": {
            "image/png": "[encoded data removed]",
            "text/plain": [
              "<Figure size 432x288 with 1 Axes>"
            ]
          },
          "metadata": {
            "needs_background": "light"
          },
          "output_type": "display_data"
        }
      ],
      "source": [
        "def sigmoid(z):\n",
        "    return 1.0 / (1.0 + np.exp(-z))\n",
        "z = np.arange(-7, 7, 0.1)\n",
        "sigma_z = sigmoid(z)\n",
        "plt.plot(z, sigma_z)\n",
        "plt.ylim(-0.1, 1.1)\n",
        "plt.xlabel(\"z\")\n",
        "plt.ylabel(\"$\\sigma (z)$\")\n",
        "plt.axvline(0.0, color=\"k\")  #vertical line at x=0.0\n",
        "#ticks and gridline\n",
        "plt.yticks([0.0, 0.5, 1.0])\n",
        "ax = plt.gca()\n",
        "ax.yaxis.grid(True)\n",
        "plt.tight_layout()\n",
        "plt.show()"
      ]
    },
    {
      "cell_type": "markdown",
      "metadata": {
        "id": "6o9l8aIrp2af"
      },
      "source": [
        "Notice: above we said that we're using the curve $\\sigma (z)$ to fit the data. What if $\\sigma (z)$ spits out a value other than 1 or 0? We will find the sigmoid of best fit by maximizing the maximum likelihood function (or minimizing LSE). Then, once we have the fitted $\\mathbf{W}$, we make the actual predictions by thresholding $\\sigma (z)$\n",
        "\n",
        "So, we add one more component to the model - the threshold.\n",
        "$\\begin{align}\n",
        "\\hat{y} = \\left\\{\n",
        "\\begin{array}{cl}\n",
        "1 & \\sigma (z) \\ge 0.5 \\\\\n",
        "0 & otherwise\n",
        "\\end{array}\n",
        "\\right.\n",
        "\\end{align}$\n",
        "\n",
        "Note: the thresholding is only applied when making predictions outside the training set; it has nothing to do with the fitting!"
      ]
    },
    {
      "cell_type": "code",
      "execution_count": null,
      "metadata": {
        "id": "VIqTJw2ep2af"
      },
      "outputs": [],
      "source": []
    }
  ],
  "metadata": {
    "kernelspec": {
      "display_name": "Python 3",
      "language": "python",
      "name": "python3"
    },
    "language_info": {
      "codemirror_mode": {
        "name": "ipython",
        "version": 3
      },
      "file_extension": ".py",
      "mimetype": "text/x-python",
      "name": "python",
      "nbconvert_exporter": "python",
      "pygments_lexer": "ipython3",
      "version": "3.8.3"
    },
    "colab": {
      "provenance": [],
      "include_colab_link": true
    }
  },
  "nbformat": 4,
  "nbformat_minor": 0
}