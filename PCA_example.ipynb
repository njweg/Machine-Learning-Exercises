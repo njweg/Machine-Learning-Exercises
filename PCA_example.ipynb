{
  "cells": [
    {
      "cell_type": "markdown",
      "metadata": {
        "id": "view-in-github",
        "colab_type": "text"
      },
      "source": [
        "<a href=\"https://colab.research.google.com/github/njweg/Machine-Learning-Exercises/blob/main/PCA_example.ipynb\" target=\"_parent\"><img src=\"https://colab.research.google.com/assets/colab-badge.svg\" alt=\"Open In Colab\"/></a>"
      ]
    },
    {
      "cell_type": "markdown",
      "source": [
        "Following *Machine Learning with PyTorch and Scikit-Learn* by Sebastian Raschka et al.\n"
      ],
      "metadata": {
        "id": "Jceofab21Jtm"
      }
    },
    {
      "cell_type": "code",
      "execution_count": null,
      "metadata": {
        "id": "OPFwvpdb1Dun",
        "outputId": "0f65d0f8-64d7-4a00-b766-1abae77f440b"
      },
      "outputs": [
        {
          "data": {
            "text/plain": [
              "<bound method NDFrame.head of      0      1     2     3     4    5     6     7     8     9      10    11  \\\n",
              "0     1  14.23  1.71  2.43  15.6  127  2.80  3.06  0.28  2.29   5.64  1.04   \n",
              "1     1  13.20  1.78  2.14  11.2  100  2.65  2.76  0.26  1.28   4.38  1.05   \n",
              "2     1  13.16  2.36  2.67  18.6  101  2.80  3.24  0.30  2.81   5.68  1.03   \n",
              "3     1  14.37  1.95  2.50  16.8  113  3.85  3.49  0.24  2.18   7.80  0.86   \n",
              "4     1  13.24  2.59  2.87  21.0  118  2.80  2.69  0.39  1.82   4.32  1.04   \n",
              "..   ..    ...   ...   ...   ...  ...   ...   ...   ...   ...    ...   ...   \n",
              "173   3  13.71  5.65  2.45  20.5   95  1.68  0.61  0.52  1.06   7.70  0.64   \n",
              "174   3  13.40  3.91  2.48  23.0  102  1.80  0.75  0.43  1.41   7.30  0.70   \n",
              "175   3  13.27  4.28  2.26  20.0  120  1.59  0.69  0.43  1.35  10.20  0.59   \n",
              "176   3  13.17  2.59  2.37  20.0  120  1.65  0.68  0.53  1.46   9.30  0.60   \n",
              "177   3  14.13  4.10  2.74  24.5   96  2.05  0.76  0.56  1.35   9.20  0.61   \n",
              "\n",
              "       12    13  \n",
              "0    3.92  1065  \n",
              "1    3.40  1050  \n",
              "2    3.17  1185  \n",
              "3    3.45  1480  \n",
              "4    2.93   735  \n",
              "..    ...   ...  \n",
              "173  1.74   740  \n",
              "174  1.56   750  \n",
              "175  1.56   835  \n",
              "176  1.62   840  \n",
              "177  1.60   560  \n",
              "\n",
              "[178 rows x 14 columns]>"
            ]
          },
          "execution_count": 2,
          "metadata": {},
          "output_type": "execute_result"
        }
      ],
      "source": [
        "import pandas as pd\n",
        "import numpy as np\n",
        "from sklearn.model_selection import train_test_split\n",
        "\n",
        "data = pd.read_csv('https://archive.ics.uci.edu/ml/machine-learning-databases/wine/wine.data', header=None)\n",
        "data.head  #the labels are col 0"
      ]
    },
    {
      "cell_type": "code",
      "execution_count": null,
      "metadata": {
        "id": "9CQ7xOIu1Dus"
      },
      "outputs": [],
      "source": [
        "from sklearn.preprocessing import StandardScaler\n",
        "\n",
        "X, y = data.iloc[:, 1:].values, data.iloc[:, 0].values\n",
        "X_train, X_test, y_train, y_test = train_test_split(X, y, test_size=0.3, stratify=y, random_state=0)\n",
        "\n",
        "#standardize the features\n",
        "sc = StandardScaler()\n",
        "X_train_std = sc.fit_transform(X_train)\n",
        "X_test_std = sc.transform(X_test)"
      ]
    },
    {
      "cell_type": "code",
      "execution_count": null,
      "metadata": {
        "id": "N4PGfyWq1Dut",
        "outputId": "7c94b23c-a74e-45f1-fce9-b052f8380f02"
      },
      "outputs": [
        {
          "name": "stdout",
          "output_type": "stream",
          "text": [
            "\n",
            " Eigenvalues: \n",
            " [4.84274532 2.41602459 1.54845825 0.96120438 0.84166161 0.6620634\n",
            " 0.51828472 0.34650377 0.3131368  0.10754642 0.21357215 0.15362835\n",
            " 0.1808613 ]\n"
          ]
        }
      ],
      "source": [
        "Cov = np.cov(X_train_std.T)  #input to np.cov() needs to have the features along rows rather than along column\n",
        "eigenvals, eigenvecs = np.linalg.eig(Cov)  #get eigenvals and eigenvecs of covariance matrix\n",
        "print('\\n Eigenvalues: \\n', eigenvals)"
      ]
    },
    {
      "cell_type": "markdown",
      "metadata": {
        "id": "-TIrZ3gr1Duu"
      },
      "source": [
        "The **explained variance ratio** for ith eigenvalue, $ \\lambda_{i} $, is given by\n",
        "\n",
        "$ \\begin{align}\n",
        "  \\mathrm{ratio}_{i} = \\frac{\\lambda_{i}}{\\sum \\lambda_{j}}\n",
        "  \\end{align} $\n",
        "  \n",
        "This is interpreted as \"the percent of the variance of the data explained by the ith principal component\""
      ]
    },
    {
      "cell_type": "code",
      "execution_count": null,
      "metadata": {
        "id": "q7KrvlwX1Dux",
        "outputId": "1339c930-9df0-43a9-de97-fb826b29c1e3"
      },
      "outputs": [
        {
          "data": {
            "image/png": "[encoded data removed]",
            "text/plain": [
              "<Figure size 432x288 with 1 Axes>"
            ]
          },
          "metadata": {
            "needs_background": "light"
          },
          "output_type": "display_data"
        }
      ],
      "source": [
        "#We will plot the explained var ratios ordered by size\n",
        "import matplotlib.pyplot as plt\n",
        "\n",
        "tot = sum(eigenvals)\n",
        "ratios = [(i / tot) for i in sorted(eigenvals, reverse=True)]\n",
        "cum_exp_var = np.cumsum(ratios)  #the cumulative sum of the ratios, which we'll plot as well\n",
        "\n",
        "plt.bar(range(1,14), ratios, align='center', label='Individual Explained Variance')\n",
        "plt.step(range(1,14), cum_exp_var, where='mid', label='Cumulative Explained Variance')\n",
        "plt.ylabel('Explained Variance Ratio')\n",
        "plt.xlabel('Principal Component index')\n",
        "plt.legend(loc='best')\n",
        "plt.tight_layout()\n",
        "plt.show()"
      ]
    },
    {
      "cell_type": "markdown",
      "metadata": {
        "id": "Fl1NhITU1Duy"
      },
      "source": [
        "The first 3 components explain a bit over 60% of the variance so we'll use the first 3 eigenvecs as our new feature space basis. Remember, the coordinate transformation matrix is the matrix of our chosen basis vecs. We'll multiply every data point by this matrix to project the data into the new space (spanned by the first 3 eigenvecs)"
      ]
    },
    {
      "cell_type": "code",
      "execution_count": null,
      "metadata": {
        "id": "G8ug3trf1Duz",
        "outputId": "4edea7e7-a867-4700-8cfb-7244ba4b6353"
      },
      "outputs": [
        {
          "name": "stdout",
          "output_type": "stream",
          "text": [
            "W matrix:\n",
            " [[-0.13724218  0.50303478]\n",
            " [ 0.24724326  0.16487119]\n",
            " [-0.02545159  0.24456476]\n",
            " [ 0.20694508 -0.11352904]\n",
            " [-0.15436582  0.28974518]\n",
            " [-0.39376952  0.05080104]\n",
            " [-0.41735106 -0.02287338]\n",
            " [ 0.30572896  0.09048885]\n",
            " [-0.30668347  0.00835233]\n",
            " [ 0.07554066  0.54977581]\n",
            " [-0.32613263 -0.20716433]\n",
            " [-0.36861022 -0.24902536]\n",
            " [-0.29669651  0.38022942]]\n"
          ]
        }
      ],
      "source": [
        "#Make list of eigenval, eigenvec pairs to be sorted\n",
        "eigen_pairs = [(np.abs(eigenvals[i]), eigenvecs[:, i]) for i in range(len(eigenvals))]\n",
        "#sort the pairs from high to low based on eigenval\n",
        "eigen_pairs.sort(key=lambda k: k[0], reverse=True)\n",
        "\n",
        "#Create coordinate matrix W\n",
        "W = np.hstack((eigen_pairs[0][1][:, np.newaxis],  #np.newaxis in the col spot makes the array into a 2-dim column vec.\n",
        "               eigen_pairs[1][1][:, np.newaxis]))\n",
        "print('W matrix:\\n', W)  #each column is an eigenvec"
      ]
    },
    {
      "cell_type": "markdown",
      "metadata": {
        "id": "FKdXPOC21Du0"
      },
      "source": [
        "Since we've put the matrix in dxk form (where dim. feature space = d and dim. chosen = k) instead of the usual kxd, we need to perform the transformation by $\\vec{\\mathbf{x}} W $ instead of $W  \\vec{\\mathbf{x}}$"
      ]
    },
    {
      "cell_type": "code",
      "execution_count": null,
      "metadata": {
        "id": "UQLxdGmz1Du1",
        "outputId": "91436763-fee8-43eb-f635-72e3b4a35e9f"
      },
      "outputs": [
        {
          "data": {
            "image/png": "[encoded data removed]",
            "text/plain": [
              "<Figure size 432x288 with 1 Axes>"
            ]
          },
          "metadata": {
            "needs_background": "light"
          },
          "output_type": "display_data"
        }
      ],
      "source": [
        "X_train_pca = X_train_std.dot(W)  #new dataset is 124 rows, 2 cols instead of 13 cols\n",
        "\n",
        "#scatterplot of data in new basis\n",
        "colors = ['r', 'b', 'g']\n",
        "markers = ['o', 's', '^']\n",
        "for i, c, m in zip(np.unique(y_train), colors, markers):\n",
        "    plt.scatter(X_train_pca[y_train==i, 0],\n",
        "                X_train_pca[y_train==i, 1],\n",
        "                color=c, marker=m, label=f'Class {i}')\n",
        "plt.xlabel('PC 1')\n",
        "plt.ylabel('PC 2')\n",
        "plt.legend(loc='lower left')\n",
        "plt.tight_layout()\n",
        "plt.show()"
      ]
    },
    {
      "cell_type": "markdown",
      "metadata": {
        "id": "fsTfYRny1Du2"
      },
      "source": [
        "**loadings** are interpreted as the correlation between an original feature and a principal component. We scale an eigenvec by the square root of its eigenval (this is a singular value of X)"
      ]
    },
    {
      "cell_type": "code",
      "execution_count": null,
      "metadata": {
        "id": "5YonBW-J1Du2",
        "outputId": "dce3555d-cfa7-42c4-9f5c-eedba7268354"
      },
      "outputs": [
        {
          "data": {
            "image/png": "[encoded data removed]",
            "text/plain": [
              "<Figure size 432x288 with 1 Axes>"
            ]
          },
          "metadata": {
            "needs_background": "light"
          },
          "output_type": "display_data"
        }
      ],
      "source": [
        "loadings = eigenvecs * np.sqrt(eigenvals)  #13x13 matrix; element-wise mult, same as np.matmul()\n",
        "\n",
        "#plot loadings for PC 1\n",
        "fig, ax = plt.subplots()\n",
        "ax.bar(range(13), loadings[:, 0], align='center')  #col 0 is the first sclaed eigenvec - i.e. PC1 loadings\n",
        "ax.set_ylabel('Loadings for PC 1')\n",
        "ax.set_xticks(range(13))\n",
        "ax.set_xticklabels(data.columns[1:], rotation=90)\n",
        "plt.ylim([-1,1])\n",
        "plt.tight_layout()\n",
        "plt.show()"
      ]
    },
    {
      "cell_type": "markdown",
      "metadata": {
        "id": "jND5l9Wk1Du3"
      },
      "source": [
        "SKlearn has a `PCA` class, a member of sklearn's transformer classes, imported from `sklearn.decomposition`. Initialize PCA object `pca = PCA(n_components=k)`, where k is the number of components we want. If we set `n_components=None` then all the components will be kept. Attributes -\n",
        "\n",
        "- `explained_variance_ratio_` returns list of the ratios for all eigenvals; can only access if `n_components=None`\n",
        "- `components_` the eigenvecs\n",
        "- `explained_variance_` the eigenvals"
      ]
    },
    {
      "cell_type": "code",
      "execution_count": null,
      "metadata": {
        "id": "ey4pjCd81Du3"
      },
      "outputs": [],
      "source": []
    }
  ],
  "metadata": {
    "kernelspec": {
      "display_name": "Python 3",
      "language": "python",
      "name": "python3"
    },
    "language_info": {
      "codemirror_mode": {
        "name": "ipython",
        "version": 3
      },
      "file_extension": ".py",
      "mimetype": "text/x-python",
      "name": "python",
      "nbconvert_exporter": "python",
      "pygments_lexer": "ipython3",
      "version": "3.8.3"
    },
    "colab": {
      "provenance": [],
      "include_colab_link": true
    }
  },
  "nbformat": 4,
  "nbformat_minor": 0
}